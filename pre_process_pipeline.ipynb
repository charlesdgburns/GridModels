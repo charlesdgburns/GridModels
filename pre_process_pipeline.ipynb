{
 "cells": [
  {
   "cell_type": "markdown",
   "metadata": {},
   "source": [
    "# Pre-processing pipeline\n",
    "\n",
    "The following notebook is written to help understand the pre-processing pipeline"
   ]
  },
  {
   "cell_type": "markdown",
   "metadata": {},
   "source": [
    "## Video labelling with SLEAP\n",
    "\n",
    "Labelling and model training was done locally on a GPU following SLEAP miniconda installation instructions. \n",
    "\n",
    "For inference, we wish to import a model and run inferences on clusters. "
   ]
  },
  {
   "cell_type": "code",
   "execution_count": 1,
   "metadata": {},
   "outputs": [
    {
     "name": "stdout",
     "output_type": "stream",
     "text": [
      "(113079, 1)\n",
      "(1, 2, 8, 113079)\n"
     ]
    }
   ],
   "source": [
    "import h5py\n",
    "\n",
    "hd5_path = \"C:/Users/cburns/Documents/Research/SLEAP/mEC_OF_labels.v001.000_mEC_2.open_field_2024-02-20-112724.analysis.h5\"\n",
    "\n",
    "with h5py.File(hd5_path, 'r') as f:\n",
    "    occupancy_matrix = f['track_occupancy'][:]\n",
    "    tracks_matrix = f['tracks'][:]\n",
    "\n",
    "print(occupancy_matrix.shape)\n",
    "print(tracks_matrix.shape)"
   ]
  },
  {
   "cell_type": "code",
   "execution_count": 2,
   "metadata": {},
   "outputs": [
    {
     "data": {
      "text/plain": [
       "array([         nan,          nan,          nan, ...,          nan,\n",
       "                nan, 826.22138087])"
      ]
     },
     "execution_count": 2,
     "metadata": {},
     "output_type": "execute_result"
    }
   ],
   "source": [
    "tracks_matrix[0,0,0,:]"
   ]
  },
  {
   "cell_type": "markdown",
   "metadata": {},
   "source": [
    "## "
   ]
  }
 ],
 "metadata": {
  "kernelspec": {
   "display_name": ".venv",
   "language": "python",
   "name": "python3"
  },
  "language_info": {
   "codemirror_mode": {
    "name": "ipython",
    "version": 3
   },
   "file_extension": ".py",
   "mimetype": "text/x-python",
   "name": "python",
   "nbconvert_exporter": "python",
   "pygments_lexer": "ipython3",
   "version": "3.12.1"
  }
 },
 "nbformat": 4,
 "nbformat_minor": 2
}
